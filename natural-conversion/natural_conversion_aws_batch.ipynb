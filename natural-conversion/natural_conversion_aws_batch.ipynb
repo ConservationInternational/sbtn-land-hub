{
 "cells": [
  {
   "cell_type": "code",
   "execution_count": 2,
   "metadata": {},
   "outputs": [],
   "source": [
    "import boto3\n",
    "from pprint import pprint\n",
    "client = boto3.client('batch')"
   ]
  },
  {
   "cell_type": "markdown",
   "metadata": {},
   "source": [
    "# Register job definition"
   ]
  },
  {
   "cell_type": "code",
   "execution_count": 4,
   "metadata": {},
   "outputs": [
    {
     "name": "stdout",
     "output_type": "stream",
     "text": [
      "{'ResponseMetadata': {'HTTPHeaders': {'access-control-allow-origin': '*',\n",
      "                                      'access-control-expose-headers': 'X-amzn-errortype,X-amzn-requestid,X-amzn-errormessage,X-amzn-trace-id,X-amz-apigw-id,date',\n",
      "                                      'connection': 'keep-alive',\n",
      "                                      'content-length': '147',\n",
      "                                      'content-type': 'application/json',\n",
      "                                      'date': 'Mon, 28 Feb 2022 03:15:32 GMT',\n",
      "                                      'x-amz-apigw-id': 'OO6tME4-IAMF7kw=',\n",
      "                                      'x-amzn-requestid': '0de5c0de-a5b9-4103-9067-8dd04fb73a23',\n",
      "                                      'x-amzn-trace-id': 'Root=1-621c3e54-22f668316dbe77055099c6c2'},\n",
      "                      'HTTPStatusCode': 200,\n",
      "                      'RequestId': '0de5c0de-a5b9-4103-9067-8dd04fb73a23',\n",
      "                      'RetryAttempts': 0},\n",
      " 'jobDefinitionArn': 'arn:aws:batch:us-east-1:273676533378:job-definition/naturalconversion:2',\n",
      " 'jobDefinitionName': 'naturalconversion',\n",
      " 'revision': 2}\n"
     ]
    }
   ],
   "source": [
    "client = boto3.client('batch')\n",
    "resp_reg_job = client.register_job_definition(\n",
    "    jobDefinitionName='naturalconversion',\n",
    "    type='container',\n",
    "    containerProperties={\n",
    "        'image': '273676533378.dkr.ecr.us-east-1.amazonaws.com/sbtn/naturalconversion:latest',\n",
    "        'command': [\n",
    "            'write_csvs_for_postgres',\n",
    "        ],\n",
    "        'resourceRequirements': [\n",
    "            {\n",
    "                'value': '256000',\n",
    "                'type': 'MEMORY'\n",
    "            },\n",
    "            {\n",
    "                'value': '32',\n",
    "                'type': 'VCPU'\n",
    "            },\n",
    "        ]\n",
    "    },\n",
    "    timeout={\n",
    "        'attemptDurationSeconds': 3600*12\n",
    "    },\n",
    "    platformCapabilities=[\n",
    "        'EC2',\n",
    "    ]\n",
    ")\n",
    "pprint(resp_reg_job)"
   ]
  },
  {
   "cell_type": "markdown",
   "metadata": {},
   "source": [
    "# Run Job"
   ]
  },
  {
   "cell_type": "code",
   "execution_count": 4,
   "metadata": {},
   "outputs": [
    {
     "name": "stdout",
     "output_type": "stream",
     "text": [
      "{'ResponseMetadata': {'HTTPHeaders': {'access-control-allow-origin': '*',\n",
      "                                      'access-control-expose-headers': 'X-amzn-errortype,X-amzn-requestid,X-amzn-errormessage,X-amzn-trace-id,X-amz-apigw-id,date',\n",
      "                                      'connection': 'keep-alive',\n",
      "                                      'content-length': '168',\n",
      "                                      'content-type': 'application/json',\n",
      "                                      'date': 'Fri, 04 Mar 2022 22:01:05 GMT',\n",
      "                                      'x-amz-apigw-id': 'OerVNEWDoAMF_MQ=',\n",
      "                                      'x-amzn-requestid': '0be0181a-f52a-4bfb-97fa-93ea080a65be',\n",
      "                                      'x-amzn-trace-id': 'Root=1-62228c21-2c4c155344525c6e1a7dc67c'},\n",
      "                      'HTTPStatusCode': 200,\n",
      "                      'RequestId': '0be0181a-f52a-4bfb-97fa-93ea080a65be',\n",
      "                      'RetryAttempts': 0},\n",
      " 'jobArn': 'arn:aws:batch:us-east-1:273676533378:job/d5d338a8-91de-4714-94f4-2d75fcdb05e1',\n",
      " 'jobId': 'd5d338a8-91de-4714-94f4-2d75fcdb05e1',\n",
      " 'jobName': 'natural_conversion'}\n"
     ]
    }
   ],
   "source": [
    "#job_name = \"cropland_match\"\n",
    "#n_cpus = \"1\"\n",
    "#memory = \"16000\"\n",
    "#array_size = 648\n",
    "#timeout = 3600*2\n",
    "#job_queue ='spot_standard_disk'\n",
    "#year = '2007'\n",
    "\n",
    "#job_name = \"esa_cci\"\n",
    "#n_cpus = \"62\"\n",
    "#memory = \"350000\"\n",
    "#array_size = 1\n",
    "#timeout = 3600*2\n",
    "#job_queue ='spot_standard_disk'\n",
    "\n",
    "job_name = \"natural_conversion\"\n",
    "n_cpus = \"60\"\n",
    "memory = \"256000\"\n",
    "array_size = 1\n",
    "timeout = 3600*2\n",
    "job_queue ='spot_fleet_1TB-io2-disk'\n",
    "\n",
    "#job_queue = 'ondemand_large_disk'\n",
    "#job_queue ='spot_standard_disk'\n",
    "#job_queue ='spot_fleet_1TB-io2-disk'\n",
    "#job_queue ='ondemand_fleet_1TB-io2-disk'\n",
    "\n",
    "job_params = dict(\n",
    "    jobName=f'{job_name}',\n",
    "    jobDefinition='naturalconversion',\n",
    "    jobQueue=job_queue,\n",
    "    containerOverrides={\n",
    "        'resourceRequirements': [\n",
    "            {\n",
    "                'value': n_cpus,\n",
    "                'type': 'VCPU'\n",
    "            },\n",
    "            {\n",
    "                'value': memory,\n",
    "                'type': 'MEMORY'\n",
    "            }\n",
    "        ],\n",
    "        'command': [\n",
    "            f'{job_name}'\n",
    "            #'--year',\n",
    "            #year\n",
    "        ],\n",
    "    },\n",
    "    timeout={\n",
    "        'attemptDurationSeconds': timeout\n",
    "    },\n",
    "    retryStrategy={ \n",
    "        \"attempts\": 4,\n",
    "        \"evaluateOnExit\": \n",
    "        [\n",
    "            {\n",
    "                \"onStatusReason\" :\"Host EC2*\",  # includes spot instance reclaim\n",
    "                \"action\": \"RETRY\"\n",
    "            },\n",
    "            {\n",
    "                \"onStatusReason\" :\"CannotInspectContainer*\",  # docker errors usually due to i/o\n",
    "                \"action\": \"RETRY\"\n",
    "            },\n",
    "            {\n",
    "                \"onStatusReason\" :\"OutOfMemoryError*\",\n",
    "                \"action\": \"RETRY\"\n",
    "            },\n",
    "            {\n",
    "                \"onReason\" : \"*\",\n",
    "                \"action\": \"EXIT\"\n",
    "            }\n",
    "        ]\n",
    "    }\n",
    ")\n",
    "if array_size > 1:\n",
    "    job_params.update(dict(\n",
    "        arrayProperties={\n",
    "            'size': array_size\n",
    "        }\n",
    "    ))\n",
    "resp_submit = client.submit_job(**job_params)\n",
    "pprint(resp_submit)"
   ]
  },
  {
   "cell_type": "code",
   "execution_count": null,
   "metadata": {},
   "outputs": [],
   "source": []
  }
 ],
 "metadata": {
  "kernelspec": {
   "display_name": "Python 3",
   "language": "python",
   "name": "python3"
  },
  "language_info": {
   "codemirror_mode": {
    "name": "ipython",
    "version": 3
   },
   "file_extension": ".py",
   "mimetype": "text/x-python",
   "name": "python",
   "nbconvert_exporter": "python",
   "pygments_lexer": "ipython3",
   "version": "3.8.5"
  }
 },
 "nbformat": 4,
 "nbformat_minor": 4
}
