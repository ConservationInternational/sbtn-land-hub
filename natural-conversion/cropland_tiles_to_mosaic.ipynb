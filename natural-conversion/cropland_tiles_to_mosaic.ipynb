{
 "cells": [
  {
   "cell_type": "code",
   "execution_count": 2,
   "metadata": {},
   "outputs": [],
   "source": [
    "from osgeo import gdal\n",
    "from pathlib import Path\n",
    "import tempfile\n",
    "\n",
    "cropland_path = Path(\"D:/Documents and Settings/azvoleff/Desktop/croplands\")"
   ]
  },
  {
   "cell_type": "code",
   "execution_count": 3,
   "metadata": {},
   "outputs": [
    {
     "name": "stdout",
     "output_type": "stream",
     "text": [
      "Processing 2019...\n",
      "Building vrt\n",
      "Saving cog to D:\\Documents and Settings\\azvoleff\\Desktop\\croplands\\Croplands_300m_2019.tif\n",
      "Processing 2011...\n",
      "Building vrt\n",
      "Saving cog to D:\\Documents and Settings\\azvoleff\\Desktop\\croplands\\Croplands_300m_2011.tif\n",
      "Processing 2003...\n",
      "Building vrt\n",
      "Saving cog to D:\\Documents and Settings\\azvoleff\\Desktop\\croplands\\Croplands_300m_2003.tif\n",
      "Processing 2015...\n",
      "Building vrt\n",
      "Saving cog to D:\\Documents and Settings\\azvoleff\\Desktop\\croplands\\Croplands_300m_2015.tif\n",
      "Processing 2007...\n",
      "Building vrt\n",
      "Saving cog to D:\\Documents and Settings\\azvoleff\\Desktop\\croplands\\Croplands_300m_2007.tif\n"
     ]
    }
   ],
   "source": [
    "years = [2019, 2011, 2003, 2015, 2007]\n",
    "for year in years:\n",
    "    print(f'Processing {year}...')\n",
    "    crop_vrt = Path(tempfile.NamedTemporaryFile(suffix='.vrt', delete=False).name)\n",
    "    print('Building vrt')\n",
    "    ds_crop = gdal.BuildVRT(str(crop_vrt), [str(p) for p in cropland_path.glob(f'Croplands_300m_{year}_*.tif')])\n",
    "    out_tif = cropland_path / f'Croplands_300m_{year}.tif'\n",
    "    print(f'Saving cog to {out_tif}')\n",
    "    gdal.Translate(str(out_tif), ds_crop,\n",
    "       creationOptions=[\n",
    "           'BIGTIFF=YES', 'COMPRESS=LZW', 'NUM_THREADS=ALL_CPUS'\n",
    "       ], format='COG')"
   ]
  },
  {
   "cell_type": "code",
   "execution_count": null,
   "metadata": {},
   "outputs": [],
   "source": []
  }
 ],
 "metadata": {
  "kernelspec": {
   "display_name": "Python 3",
   "language": "python",
   "name": "python3"
  },
  "language_info": {
   "codemirror_mode": {
    "name": "ipython",
    "version": 3
   },
   "file_extension": ".py",
   "mimetype": "text/x-python",
   "name": "python",
   "nbconvert_exporter": "python",
   "pygments_lexer": "ipython3",
   "version": "3.8.5"
  }
 },
 "nbformat": 4,
 "nbformat_minor": 4
}
