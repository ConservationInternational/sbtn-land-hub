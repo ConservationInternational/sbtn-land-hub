{
 "cells": [
  {
   "cell_type": "code",
   "execution_count": null,
   "metadata": {},
   "outputs": [],
   "source": [
    "from osgeo import gdal\n",
    "from pathlib import Path\n",
    "import tempfile"
   ]
  },
  {
   "cell_type": "code",
   "execution_count": null,
   "metadata": {},
   "outputs": [],
   "source": [
    "cropland_path = Path(\"D:/Documents and Settings/azvoleff/Desktop/croplands\")\n",
    "\n",
    "crop_vrt_2003 = Path(tempfile.NamedTemporaryFile(suffix='.vrt', delete=False).name)\n",
    "crop_vrt_2015 = Path(tempfile.NamedTemporaryFile(suffix='.vrt', delete=False).name)\n",
    "ds_crop_2003 = gdal.BuildVRT(str(crop_vrt_2003), [str(p) for p in cropland_path.glob('Croplands_300m_2003_*.tif')])\n",
    "ds_crop_2015 = gdal.BuildVRT(str(crop_vrt_2015), [str(p) for p in cropland_path.glob('Croplands_300m_2015_*.tif')])"
   ]
  },
  {
   "cell_type": "code",
   "execution_count": null,
   "metadata": {},
   "outputs": [],
   "source": [
    "out_crops_2003 = cropland_path / 'Croplands_300m_2003.tif'\n",
    "out_crops_2015 = cropland_path / 'Croplands_300m_2015.tif'\n",
    "\n",
    "out_files = [out_crops_2003, out_crops_2015],\n",
    "in_ds = [ds_crop_2003, ds_crop_2015]\n",
    "for out_file, in_ds in zip(\n",
    "    [out_crops_2003, out_crops_2015],\n",
    "    [ds_crop_2003, ds_crop_2015]\n",
    "):\n",
    "    gdal.Translate(str(out_file), in_ds,\n",
    "       creationOptions=[\n",
    "           'BIGTIFF=YES', 'COMPRESS=LZW', 'NUM_THREADS=ALL_CPUS'\n",
    "       ], format='COG')"
   ]
  }
 ],
 "metadata": {
  "kernelspec": {
   "display_name": "Python 3",
   "language": "python",
   "name": "python3"
  },
  "language_info": {
   "codemirror_mode": {
    "name": "ipython",
    "version": 3
   },
   "file_extension": ".py",
   "mimetype": "text/x-python",
   "name": "python",
   "nbconvert_exporter": "python",
   "pygments_lexer": "ipython3",
   "version": "3.8.5"
  }
 },
 "nbformat": 4,
 "nbformat_minor": 4
}
